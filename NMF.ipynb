{
 "cells": [
  {
   "cell_type": "code",
   "execution_count": 1,
   "metadata": {
    "ExecuteTime": {
     "end_time": "2019-09-03T16:33:11.522137Z",
     "start_time": "2019-09-03T16:33:10.275484Z"
    }
   },
   "outputs": [
    {
     "name": "stderr",
     "output_type": "stream",
     "text": [
      "[nltk_data] Downloading package stopwords to /home/aamir/nltk_data...\n",
      "[nltk_data]   Package stopwords is already up-to-date!\n",
      "[nltk_data] Downloading package words to /home/aamir/nltk_data...\n",
      "[nltk_data]   Package words is already up-to-date!\n"
     ]
    }
   ],
   "source": [
    "import re\n",
    "import numpy as np\n",
    "import pandas as pd\n",
    "from pprint import pprint\n",
    "import json\n",
    "\n",
    "# Gensim\n",
    "import gensim\n",
    "import gensim.corpora as corpora\n",
    "from gensim.utils import simple_preprocess\n",
    "from gensim.models import CoherenceModel\n",
    "\n",
    "# spacy for lemmatization\n",
    "import spacy\n",
    "\n",
    "import nltk\n",
    "from nltk.corpus import wordnet\n",
    "nltk.download('stopwords')\n",
    "nltk.download('words')\n",
    "\n",
    "# Plotting tools\n",
    "import pyLDAvis\n",
    "import pyLDAvis.gensim  # don't skip this\n",
    "import matplotlib.pyplot as plt\n",
    "%matplotlib inline\n",
    "\n",
    "# Enable logging for gensim - optional\n",
    "import logging\n",
    "logging.basicConfig(format='%(asctime)s : %(levelname)s : %(message)s', level=logging.ERROR)\n",
    "\n",
    "import warnings\n",
    "warnings.filterwarnings(\"ignore\",category=DeprecationWarning)\n",
    "\n",
    "pd.set_option('display.max_colwidth', -1)"
   ]
  },
  {
   "cell_type": "code",
   "execution_count": 2,
   "metadata": {
    "ExecuteTime": {
     "end_time": "2019-09-03T16:33:11.750903Z",
     "start_time": "2019-09-03T16:33:11.523459Z"
    }
   },
   "outputs": [],
   "source": [
    "df = pd.read_csv('/home/aamir/datasets/brexit.csv', header=0, encoding='utf-8')"
   ]
  },
  {
   "cell_type": "code",
   "execution_count": 3,
   "metadata": {
    "ExecuteTime": {
     "end_time": "2019-09-03T16:33:11.823802Z",
     "start_time": "2019-09-03T16:33:11.752134Z"
    }
   },
   "outputs": [],
   "source": [
    "# drop duplicate tweets\n",
    "df.drop_duplicates(inplace=True)"
   ]
  },
  {
   "cell_type": "code",
   "execution_count": 4,
   "metadata": {
    "ExecuteTime": {
     "end_time": "2019-09-03T16:33:12.533013Z",
     "start_time": "2019-09-03T16:33:12.528206Z"
    }
   },
   "outputs": [
    {
     "data": {
      "text/plain": [
       "(24820, 1)"
      ]
     },
     "execution_count": 4,
     "metadata": {},
     "output_type": "execute_result"
    }
   ],
   "source": [
    "df.shape"
   ]
  },
  {
   "cell_type": "code",
   "execution_count": 5,
   "metadata": {
    "ExecuteTime": {
     "end_time": "2019-09-03T16:33:14.981548Z",
     "start_time": "2019-09-03T16:33:14.974685Z"
    }
   },
   "outputs": [],
   "source": [
    "# there are some parts of the tweets that in fact does not help us to analyze its sentiment, \n",
    "# like URLs, some other user_ids, numbers, etc\n",
    "\n",
    "def remove_pattern(input_txt, pattern):\n",
    "    r = re.findall(pattern, input_txt)\n",
    "    for i in r:\n",
    "        input_txt = re.sub(i, '', input_txt)        \n",
    "    return input_txt\n",
    "\n",
    "def clean_tweets(lst):\n",
    "    # remove twitter Return handles (RT @xxx:)\n",
    "    lst = np.vectorize(remove_pattern)(lst, \"RT @[\\w]*:\")\n",
    "    # remove twitter handles (@xxx)\n",
    "    lst = np.vectorize(remove_pattern)(lst, \"@[\\w]*\")\n",
    "    # remove URL links (httpxxx)\n",
    "    lst = np.vectorize(remove_pattern)(lst, \"https?://[A-Za-z0-9./]*\")\n",
    "    # remove special characters, numbers, punctuations (except for #)\n",
    "    lst = np.core.defchararray.replace(lst, \"[^a-zA-Z#]\", \" \")\n",
    "\n",
    "    return lst"
   ]
  },
  {
   "cell_type": "code",
   "execution_count": 6,
   "metadata": {
    "ExecuteTime": {
     "end_time": "2019-09-03T16:33:15.818253Z",
     "start_time": "2019-09-03T16:33:15.368795Z"
    }
   },
   "outputs": [],
   "source": [
    "df['tweet'] =  clean_tweets(df['tweet'])"
   ]
  },
  {
   "cell_type": "code",
   "execution_count": 7,
   "metadata": {
    "ExecuteTime": {
     "end_time": "2019-09-03T16:33:16.469169Z",
     "start_time": "2019-09-03T16:33:15.819630Z"
    }
   },
   "outputs": [
    {
     "name": "stdout",
     "output_type": "stream",
     "text": [
      "[' just published \"# TheStorm : How to prepare for global corruption purge ?\" '\n",
      " '# FutureOfComms # MAGA …',\n",
      " ' If you want to repost this elsewhere , feel free . Hopefully it annoys the '\n",
      " 'right people . ',\n",
      " ' So , is the # Johnson bluster about # NoDealBrexit simply to get MPs to '\n",
      " 'accept instead bad - deal # Brexit ? He wants to bo …']\n"
     ]
    }
   ],
   "source": [
    "# Convert to list\n",
    "data = df.tweet.values.tolist()\n",
    "\n",
    "# Remove Emails\n",
    "data = [re.sub('\\S*@\\S*\\s?', '', sent) for sent in data]\n",
    "\n",
    "# Remove newline character \\n or \\\\n\n",
    "data = [re.sub(r\"(?<!\\\\)\\\\n|\\n\", ' ', sent) for sent in data]\n",
    "\n",
    "# Remove distracting single quotes\n",
    "data = [re.sub(\"\\'\", \"\", sent) for sent in data]\n",
    "\n",
    "# Removing string of length 1\n",
    "data = [re.sub(r'(?:\\b\\w{,1}\\s|\\s\\w{,1}\\b|\\b\\w{,1}\\b)', ' ', sent) for sent in data]\n",
    "\n",
    "# Remove white spaces characters\n",
    "data = [re.sub('\\s+', ' ', sent) for sent in data]\n",
    "\n",
    "pprint(data[:3])"
   ]
  },
  {
   "cell_type": "code",
   "execution_count": 8,
   "metadata": {
    "ExecuteTime": {
     "end_time": "2019-09-03T16:33:17.347945Z",
     "start_time": "2019-09-03T16:33:16.470602Z"
    }
   },
   "outputs": [
    {
     "name": "stdout",
     "output_type": "stream",
     "text": [
      "[['just', 'published', 'thestorm', 'how', 'to', 'prepare', 'for', 'global', 'corruption', 'purge', 'futureofcomms', 'maga'], ['if', 'you', 'want', 'to', 'repost', 'this', 'elsewhere', 'feel', 'free', 'hopefully', 'it', 'annoys', 'the', 'right', 'people']]\n"
     ]
    }
   ],
   "source": [
    "def sent_to_words(sentences):\n",
    "    for sentence in sentences:\n",
    "        yield(gensim.utils.simple_preprocess(str(sentence), deacc=True))  # deacc=True removes punctuations\n",
    "\n",
    "data_words = list(sent_to_words(data))\n",
    "\n",
    "print(data_words[:2])"
   ]
  },
  {
   "cell_type": "code",
   "execution_count": 9,
   "metadata": {
    "ExecuteTime": {
     "end_time": "2019-09-03T16:33:21.949336Z",
     "start_time": "2019-09-03T16:33:17.349272Z"
    }
   },
   "outputs": [
    {
     "name": "stdout",
     "output_type": "stream",
     "text": [
      "['just', 'published', 'thestorm', 'how', 'to', 'prepare', 'for', 'global', 'corruption', 'purge', 'futureofcomms', 'maga']\n"
     ]
    }
   ],
   "source": [
    "# Build the bigram and trigram models\n",
    "bigram = gensim.models.Phrases(data_words, min_count=5, threshold=100) # higher threshold fewer phrases.\n",
    "trigram = gensim.models.Phrases(bigram[data_words], threshold=100)  \n",
    "\n",
    "# Faster way to get a sentence clubbed as a trigram/bigram\n",
    "bigram_mod = gensim.models.phrases.Phraser(bigram)\n",
    "trigram_mod = gensim.models.phrases.Phraser(trigram)\n",
    "\n",
    "# See trigram example\n",
    "print(trigram_mod[bigram_mod[data_words[0]]])"
   ]
  },
  {
   "cell_type": "code",
   "execution_count": 10,
   "metadata": {
    "ExecuteTime": {
     "end_time": "2019-09-03T16:33:21.954912Z",
     "start_time": "2019-09-03T16:33:21.951264Z"
    }
   },
   "outputs": [],
   "source": [
    "# NLTK Stop words\n",
    "from nltk.corpus import stopwords\n",
    "stop_words = stopwords.words('english')\n",
    "stop_words.extend(['from', 'subject', 're', 'edu', 'use', 'nan', 'amp', 'xa', 'xb', 'xc', 'xf', 'xe', 'co'])"
   ]
  },
  {
   "cell_type": "code",
   "execution_count": 11,
   "metadata": {
    "ExecuteTime": {
     "end_time": "2019-09-03T16:33:22.160534Z",
     "start_time": "2019-09-03T16:33:21.956296Z"
    }
   },
   "outputs": [],
   "source": [
    "# Define functions for stopwords, bigrams, trigrams and lemmatization\n",
    "def remove_stopwords(texts):\n",
    "    return [[word for word in simple_preprocess(str(doc)) if word not in stop_words] for doc in texts]\n",
    "\n",
    "def make_bigrams(texts):\n",
    "    return [bigram_mod[doc] for doc in texts]\n",
    "\n",
    "def make_trigrams(texts):\n",
    "    return [trigram_mod[bigram_mod[doc]] for doc in texts]\n",
    "\n",
    "def lemmatization(texts, allowed_postags=['NOUN', 'ADJ', 'VERB', 'ADV']):\n",
    "    texts_out = []\n",
    "    for sent in texts:\n",
    "        doc = nlp(\" \".join(sent)) \n",
    "        texts_out.append([token.lemma_ for token in doc if token.pos_ in allowed_postags])\n",
    "    return texts_out"
   ]
  },
  {
   "cell_type": "code",
   "execution_count": 12,
   "metadata": {
    "ExecuteTime": {
     "end_time": "2019-09-03T16:34:03.157079Z",
     "start_time": "2019-09-03T16:33:22.165017Z"
    }
   },
   "outputs": [
    {
     "name": "stdout",
     "output_type": "stream",
     "text": [
      "[['publish', 'thestorm', 'prepare', 'global', 'corruption', 'purge', 'futureofcomms', 'maga'], ['want', 'repost', 'elsewhere', 'feel', 'free', 'hopefully', 'annoy', 'right', 'people']]\n"
     ]
    }
   ],
   "source": [
    "# Remove Stop Words\n",
    "data_words_nostops = remove_stopwords(data_words)\n",
    "\n",
    "# Form Bigrams\n",
    "data_words_bigrams = make_bigrams(data_words_nostops)\n",
    "\n",
    "# Initialize spacy 'en' model, keeping only tagger component (for efficiency)\n",
    "# python3 -m spacy download en\n",
    "nlp = spacy.load('en', disable=['parser', 'ner'])\n",
    "\n",
    "# Do lemmatization keeping only noun, adj, vb, adv\n",
    "data_lemmatized = lemmatization(data_words_bigrams, allowed_postags=['NOUN', 'ADJ', 'VERB', 'ADV'])\n",
    "\n",
    "print(data_lemmatized[:2])"
   ]
  },
  {
   "cell_type": "code",
   "execution_count": 13,
   "metadata": {
    "ExecuteTime": {
     "end_time": "2019-09-03T16:34:03.568037Z",
     "start_time": "2019-09-03T16:34:03.158125Z"
    }
   },
   "outputs": [
    {
     "name": "stdout",
     "output_type": "stream",
     "text": [
      "[[(0, 1), (1, 1), (2, 1), (3, 1), (4, 1), (5, 1), (6, 1), (7, 1)]]\n"
     ]
    }
   ],
   "source": [
    "# Create Dictionary\n",
    "id2word = corpora.Dictionary(data_lemmatized)\n",
    "\n",
    "# Create Corpus\n",
    "texts = data_lemmatized\n",
    "\n",
    "# Term Document Frequency\n",
    "corpus = [id2word.doc2bow(text) for text in texts]\n",
    "\n",
    "# View\n",
    "print(corpus[:1])"
   ]
  },
  {
   "cell_type": "code",
   "execution_count": 14,
   "metadata": {
    "ExecuteTime": {
     "end_time": "2019-09-03T16:34:05.431304Z",
     "start_time": "2019-09-03T16:34:03.569106Z"
    }
   },
   "outputs": [],
   "source": [
    "# Topic modelling-NMF\n",
    "from sklearn.feature_extraction.text import TfidfVectorizer\n",
    "from sklearn import decomposition"
   ]
  },
  {
   "cell_type": "code",
   "execution_count": 15,
   "metadata": {
    "ExecuteTime": {
     "end_time": "2019-09-03T16:34:05.772691Z",
     "start_time": "2019-09-03T16:34:05.438133Z"
    }
   },
   "outputs": [],
   "source": [
    "outlst = [' '.join([str(c) for c in lst]) for lst in texts]"
   ]
  },
  {
   "cell_type": "code",
   "execution_count": 16,
   "metadata": {
    "ExecuteTime": {
     "end_time": "2019-09-03T16:34:06.837275Z",
     "start_time": "2019-09-03T16:34:05.773996Z"
    }
   },
   "outputs": [],
   "source": [
    "makeitastring = ''.join(map(str, outlst))"
   ]
  },
  {
   "cell_type": "code",
   "execution_count": 17,
   "metadata": {
    "ExecuteTime": {
     "end_time": "2019-09-03T16:34:06.974900Z",
     "start_time": "2019-09-03T16:34:06.842922Z"
    }
   },
   "outputs": [],
   "source": [
    "vectorizer = TfidfVectorizer()"
   ]
  },
  {
   "cell_type": "code",
   "execution_count": 18,
   "metadata": {
    "ExecuteTime": {
     "end_time": "2019-09-03T16:34:07.053153Z",
     "start_time": "2019-09-03T16:34:06.979893Z"
    }
   },
   "outputs": [],
   "source": [
    "word_text = makeitastring.split()"
   ]
  },
  {
   "cell_type": "code",
   "execution_count": 19,
   "metadata": {
    "ExecuteTime": {
     "end_time": "2019-09-03T16:34:07.603739Z",
     "start_time": "2019-09-03T16:34:07.054680Z"
    }
   },
   "outputs": [],
   "source": [
    "dtm = vectorizer.fit_transform(word_text)"
   ]
  },
  {
   "cell_type": "code",
   "execution_count": 20,
   "metadata": {
    "ExecuteTime": {
     "end_time": "2019-09-03T16:34:07.632270Z",
     "start_time": "2019-09-03T16:34:07.604880Z"
    }
   },
   "outputs": [],
   "source": [
    "vocab = vectorizer.get_feature_names()"
   ]
  },
  {
   "cell_type": "code",
   "execution_count": 21,
   "metadata": {
    "ExecuteTime": {
     "end_time": "2019-09-03T16:34:07.703334Z",
     "start_time": "2019-09-03T16:34:07.633824Z"
    }
   },
   "outputs": [],
   "source": [
    "# change n_components to desired number of topics\n",
    "clf = decomposition.NMF(n_components=10,random_state=1)"
   ]
  },
  {
   "cell_type": "code",
   "execution_count": 22,
   "metadata": {
    "ExecuteTime": {
     "end_time": "2019-09-03T16:34:14.808899Z",
     "start_time": "2019-09-03T16:34:07.706622Z"
    }
   },
   "outputs": [],
   "source": [
    "topic = clf.fit_transform(dtm)"
   ]
  },
  {
   "cell_type": "code",
   "execution_count": 23,
   "metadata": {
    "ExecuteTime": {
     "end_time": "2019-09-03T16:34:14.831305Z",
     "start_time": "2019-09-03T16:34:14.812927Z"
    }
   },
   "outputs": [],
   "source": [
    "topic_words = []\n",
    "for topic in clf.components_:\n",
    "    word = np.argsort(topic)[::-1][0:20]\n",
    "    topic_words.append([vocab[i] for i in word])"
   ]
  },
  {
   "cell_type": "code",
   "execution_count": 24,
   "metadata": {
    "ExecuteTime": {
     "end_time": "2019-09-03T16:34:15.014486Z",
     "start_time": "2019-09-03T16:34:14.835257Z"
    }
   },
   "outputs": [
    {
     "name": "stdout",
     "output_type": "stream",
     "text": [
      "Topic 0: brexit ｅｕ離脱を選択 explainlate explanationstill explanationbe explanation explainunited_kingdom explaintake explainproud explainocff explainleicester explainintoday explica explaininlisten explaininbrexit explaingerman explainfront explainfeednavigator explainer explainbrexit \n",
      "\n",
      "Topic 1: uk make would eu be el brexitbrexit remain party good country government stop year may trade could back business call \n",
      "\n",
      "Topic 2: vote go do make would want referendum think brexitbrexit take party see country government stop mean year news trade work \n",
      "\n",
      "Topic 3: not would britain be think el know take new time come stop mean news day europe back happen world tell \n",
      "\n",
      "Topic 4: deal make britain eu referendum be el know brexitbrexit british remain party good time need stop come mean year may \n",
      "\n",
      "Topic 5: leave make eu be el british know remain party good new government come stop year may trade day business happen \n",
      "\n",
      "Topic 6: say make britain eu referendum el british remain party see good time need country government come news work business happen \n",
      "\n",
      "Topic 7: get go would eu think brexitbrexit take good new country government news trade day work could happen business thing give \n",
      "\n",
      "Topic 8: people do make eu el british party see good government country come year trade day business happen thing today tory \n",
      "\n",
      "Topic 9: que go do want britain referendum think know british remain see good time need trump come mean news may europe \n",
      "\n"
     ]
    }
   ],
   "source": [
    "for i in range (len(topic_words)):\n",
    "    print(\"Topic {}: {} \\n\".format(i,' '.join(topic_words[i])))"
   ]
  },
  {
   "cell_type": "code",
   "execution_count": null,
   "metadata": {},
   "outputs": [],
   "source": []
  }
 ],
 "metadata": {
  "kernelspec": {
   "display_name": "Python 3",
   "language": "python",
   "name": "python3"
  },
  "language_info": {
   "codemirror_mode": {
    "name": "ipython",
    "version": 3
   },
   "file_extension": ".py",
   "mimetype": "text/x-python",
   "name": "python",
   "nbconvert_exporter": "python",
   "pygments_lexer": "ipython3",
   "version": "3.6.8"
  }
 },
 "nbformat": 4,
 "nbformat_minor": 2
}
